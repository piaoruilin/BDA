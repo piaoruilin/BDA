{
 "cells": [
  {
   "cell_type": "code",
   "execution_count": null,
   "metadata": {},
   "outputs": [],
   "source": [
    "import seaborn as sns\n",
    "import numpy as np\n",
    "import pandas as pd\n",
    "import matplotlib.pyplot as plt\n",
    "from sklearn.preprocessing import MinMaxScaler, StandardScaler"
   ]
  },
  {
   "cell_type": "code",
   "execution_count": null,
   "metadata": {},
   "outputs": [],
   "source": [
    "# 무작위 데이터 생성\n",
    "np.random.seed(0)\n",
    "data = np.random.randn(1000) * 100 + 20\n",
    "\n",
    "# 데이터 프레임 생성\n",
    "df = pd.DataFrame(data, columns=['Original'])\n",
    "\n",
    "# Min-Max Scaling\n",
    "scaler_min_max = MinMaxScaler()\n",
    "df['Min-Max Scaled'] = scaler_min_max.fit_transform(df[['Original']])\n",
    "\n",
    "# Z-Score Normalization\n",
    "scaler_standard = StandardScaler()\n",
    "df['Z-Score Scaled'] = scaler_standard.fit_transform(df[['Original']])\n",
    "\n",
    "# 시각화\n",
    "fig, ax = plt.subplots(1, 3, figsize=(18, 5))\n",
    "\n",
    "# 원본 데이터 히스토그램\n",
    "sns.histplot(df['Original'], bins=30, kde=True, ax=ax[0])\n",
    "ax[0].set_title('Histogram of Original Data')\n",
    "\n",
    "# Min-Max Scaled 데이터 히스토그램\n",
    "sns.histplot(df['Min-Max Scaled'], bins=30, kde=True, ax=ax[1], color='green')\n",
    "ax[1].set_title('Histogram of Min-Max Scaled Data')\n",
    "\n",
    "# Z-Score Scaled 데이터 히스토그램\n",
    "sns.histplot(df['Z-Score Scaled'], bins=30, kde=True, ax=ax[2], color='red')\n",
    "ax[2].set_title('Histogram of Z-Score Scaled Data')\n",
    "\n",
    "plt.tight_layout()\n",
    "plt.show()\n",
    "\n",
    "# 박스 플롯으로 시각화\n",
    "plt.figure(figsize=(10, 6))\n",
    "sns.boxplot(data=df)\n",
    "plt.title('Box Plot of Original, Min-Max and Z-Score Scaled Data')\n",
    "plt.show()"
   ]
  },
  {
   "cell_type": "code",
   "execution_count": null,
   "metadata": {},
   "outputs": [],
   "source": [
    "tt = sns.load_dataset('titanic')\n",
    "tt_sp =tt[['age','fare','survived']]\n",
    "\n",
    "tt_sp['age'].fillna(tt_sp['age'].median(), inplace=True)\n",
    "tt_sp['fare'].fillna(tt_sp['fare'].median(), inplace=True)"
   ]
  },
  {
   "cell_type": "code",
   "execution_count": null,
   "metadata": {},
   "outputs": [],
   "source": [
    "tt_sp.isna().sum()"
   ]
  },
  {
   "cell_type": "code",
   "execution_count": null,
   "metadata": {},
   "outputs": [],
   "source": [
    "# Min\n",
    "min_max_scaler = MinMaxScaler()\n",
    "tt_sp['age_mm'] = min_max_scaler.fit_transform(np.array(tt_sp['age']).reshape(-1,1))\n",
    "tt_sp['fare_mm'] = min_max_scaler.fit_transform(np.array(tt_sp['fare']).reshape(-1,1))\n",
    "\n",
    "# Z-score\n",
    "standard_scaler= StandardScaler()\n",
    "tt_sp['age_z'] = standard_scaler.fit_transform(np.array(tt_sp['age']).reshape(-1,1))\n",
    "tt_sp['fare_z'] = standard_scaler.fit_transform(np.array(tt_sp['fare']).reshape(-1,1))"
   ]
  },
  {
   "cell_type": "code",
   "execution_count": 1,
   "metadata": {},
   "outputs": [
    {
     "ename": "NameError",
     "evalue": "name 'plt' is not defined",
     "output_type": "error",
     "traceback": [
      "\u001b[0;31m---------------------------------------------------------------------------\u001b[0m",
      "\u001b[0;31mNameError\u001b[0m                                 Traceback (most recent call last)",
      "\u001b[0;32m<ipython-input-1-0c6d97e8bfed>\u001b[0m in \u001b[0;36m<module>\u001b[0;34m\u001b[0m\n\u001b[0;32m----> 1\u001b[0;31m \u001b[0mfig\u001b[0m\u001b[0;34m,\u001b[0m \u001b[0maxes\u001b[0m\u001b[0;34m=\u001b[0m \u001b[0mplt\u001b[0m\u001b[0;34m.\u001b[0m\u001b[0msubplots\u001b[0m\u001b[0;34m(\u001b[0m\u001b[0;36m3\u001b[0m\u001b[0;34m,\u001b[0m\u001b[0;36m2\u001b[0m\u001b[0;34m,\u001b[0m \u001b[0mfigsize\u001b[0m\u001b[0;34m=\u001b[0m\u001b[0;34m(\u001b[0m\u001b[0;36m14\u001b[0m\u001b[0;34m,\u001b[0m\u001b[0;36m12\u001b[0m\u001b[0;34m)\u001b[0m\u001b[0;34m)\u001b[0m\u001b[0;34m\u001b[0m\u001b[0;34m\u001b[0m\u001b[0m\n\u001b[0m\u001b[1;32m      2\u001b[0m \u001b[0msns\u001b[0m\u001b[0;34m.\u001b[0m\u001b[0mhistplot\u001b[0m\u001b[0;34m(\u001b[0m\u001b[0mtt_sp\u001b[0m\u001b[0;34m,\u001b[0m \u001b[0mx\u001b[0m\u001b[0;34m=\u001b[0m\u001b[0;34m'age'\u001b[0m\u001b[0;34m,\u001b[0m\u001b[0mhue\u001b[0m\u001b[0;34m=\u001b[0m\u001b[0;34m'survived'\u001b[0m\u001b[0;34m,\u001b[0m \u001b[0mmultiple\u001b[0m \u001b[0;34m=\u001b[0m \u001b[0;34m'stack'\u001b[0m\u001b[0;34m,\u001b[0m \u001b[0max\u001b[0m\u001b[0;34m=\u001b[0m \u001b[0maxes\u001b[0m\u001b[0;34m[\u001b[0m\u001b[0;36m0\u001b[0m\u001b[0;34m,\u001b[0m\u001b[0;36m0\u001b[0m\u001b[0;34m]\u001b[0m\u001b[0;34m,\u001b[0m\u001b[0mkde\u001b[0m\u001b[0;34m=\u001b[0m\u001b[0;32mTrue\u001b[0m \u001b[0;34m)\u001b[0m\u001b[0;34m\u001b[0m\u001b[0;34m\u001b[0m\u001b[0m\n\u001b[1;32m      3\u001b[0m \u001b[0maxes\u001b[0m\u001b[0;34m[\u001b[0m\u001b[0;36m0\u001b[0m\u001b[0;34m,\u001b[0m\u001b[0;36m0\u001b[0m\u001b[0;34m]\u001b[0m\u001b[0;34m.\u001b[0m\u001b[0mset_title\u001b[0m\u001b[0;34m(\u001b[0m\u001b[0;34m'Original Age'\u001b[0m\u001b[0;34m)\u001b[0m\u001b[0;34m\u001b[0m\u001b[0;34m\u001b[0m\u001b[0m\n\u001b[1;32m      4\u001b[0m \u001b[0;34m\u001b[0m\u001b[0m\n\u001b[1;32m      5\u001b[0m \u001b[0msns\u001b[0m\u001b[0;34m.\u001b[0m\u001b[0mhistplot\u001b[0m\u001b[0;34m(\u001b[0m\u001b[0mtt_sp\u001b[0m\u001b[0;34m,\u001b[0m \u001b[0mx\u001b[0m\u001b[0;34m=\u001b[0m\u001b[0;34m'fare'\u001b[0m\u001b[0;34m,\u001b[0m\u001b[0mhue\u001b[0m\u001b[0;34m=\u001b[0m\u001b[0;34m'survived'\u001b[0m\u001b[0;34m,\u001b[0m \u001b[0mmultiple\u001b[0m \u001b[0;34m=\u001b[0m \u001b[0;34m'stack'\u001b[0m\u001b[0;34m,\u001b[0m \u001b[0max\u001b[0m\u001b[0;34m=\u001b[0m \u001b[0maxes\u001b[0m\u001b[0;34m[\u001b[0m\u001b[0;36m0\u001b[0m\u001b[0;34m,\u001b[0m\u001b[0;36m1\u001b[0m\u001b[0;34m]\u001b[0m\u001b[0;34m,\u001b[0m\u001b[0mkde\u001b[0m\u001b[0;34m=\u001b[0m\u001b[0;32mTrue\u001b[0m \u001b[0;34m)\u001b[0m\u001b[0;34m\u001b[0m\u001b[0;34m\u001b[0m\u001b[0m\n",
      "\u001b[0;31mNameError\u001b[0m: name 'plt' is not defined"
     ]
    }
   ],
   "source": [
    "fig, axes= plt.subplots(3,2, figsize=(14,12))\n",
    "sns.histplot(tt_sp, x='age',hue='survived', multiple = 'stack', ax= axes[0,0],kde=True )\n",
    "axes[0,0].set_title('Original Age')\n",
    "\n",
    "sns.histplot(tt_sp, x='fare',hue='survived', multiple = 'stack', ax= axes[0,1],kde=True )\n",
    "axes[0,1].set_title('Original fare')\n",
    "\n",
    "sns.histplot(tt_sp, x='age_mm',hue='survived', multiple = 'stack', ax= axes[1,0],kde=True )\n",
    "axes[1,0].set_title('Min-Max Age')\n",
    "\n",
    "sns.histplot(tt_sp, x='fare_mm',hue='survived', multiple = 'stack', ax= axes[1,1],kde=True )\n",
    "axes[1,1].set_title('Min-Max fare')\n",
    "\n",
    "\n",
    "sns.histplot(tt_sp, x='age_z',hue='survived', multiple = 'stack', ax= axes[2,0],kde=True )\n",
    "axes[2,0].set_title('z-score Age')\n",
    "\n",
    "sns.histplot(tt_sp, x='fare_z',hue='survived', multiple = 'stack', ax= axes[2,1],kde=True )\n",
    "axes[2,1].set_title('z-score fare')"
   ]
  },
  {
   "cell_type": "code",
   "execution_count": null,
   "metadata": {},
   "outputs": [],
   "source": []
  }
 ],
 "metadata": {
  "kernelspec": {
   "display_name": "base",
   "language": "python",
   "name": "python3"
  },
  "language_info": {
   "codemirror_mode": {
    "name": "ipython",
    "version": 3
   },
   "file_extension": ".py",
   "mimetype": "text/x-python",
   "name": "python",
   "nbconvert_exporter": "python",
   "pygments_lexer": "ipython3",
   "version": "3.7.6"
  }
 },
 "nbformat": 4,
 "nbformat_minor": 2
}
